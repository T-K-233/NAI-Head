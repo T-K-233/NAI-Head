{
 "cells": [
  {
   "cell_type": "code",
   "execution_count": 1,
   "metadata": {},
   "outputs": [],
   "source": [
    "import csv\n",
    "import os\n",
    "import numpy as np\n",
    "from torchvision import transforms\n",
    "from torch.utils.data import Dataset, DataLoader, random_split\n",
    "import torch\n",
    "import torch.nn as nn\n",
    "import torch.optim as optim\n",
    "import pandas as pd\n",
    "import torch.nn.functional as F\n",
    "\n",
    "# RANDOM_SEED = 42"
   ]
  },
  {
   "cell_type": "code",
   "execution_count": 2,
   "metadata": {},
   "outputs": [],
   "source": [
    "class KeypointDataset(Dataset):\n",
    "    def __init__(self, csv_file, transform=None):\n",
    "        \"\"\"\n",
    "        Args:\n",
    "            csv_file (str): Path to the CSV file.\n",
    "            transform (callable, optional): Optional transform to be applied\n",
    "                on a sample.\n",
    "        \"\"\"\n",
    "        self.data_frame = pd.read_csv(csv_file)\n",
    "        self.transform = transform\n",
    "\n",
    "    def __len__(self):\n",
    "        return len(self.data_frame)\n",
    "\n",
    "    def __getitem__(self, idx):\n",
    "        if torch.is_tensor(idx):\n",
    "            idx = idx.tolist()\n",
    "\n",
    "        # Extract the data row corresponding to the index\n",
    "        row = self.data_frame.iloc[idx]\n",
    "        # Assuming the first columns are features and the last column is the label\n",
    "        sample = {\n",
    "                    'label': torch.tensor(row[0], dtype=torch.long),\n",
    "                    'features': torch.tensor(row[1:].values, dtype=torch.float32)\n",
    "                }\n",
    "\n",
    "        if self.transform:\n",
    "            sample = self.transform(sample)\n",
    "\n",
    "        return sample"
   ]
  },
  {
   "cell_type": "code",
   "execution_count": 3,
   "metadata": {},
   "outputs": [],
   "source": [
    "csv_file_path = 'keypoint.csv'\n",
    "dataset = KeypointDataset(csv_file=csv_file_path)\n",
    "NUM_CLASSES = 5\n",
    "INPUT_SIZE = 21 * 2  # Number of input features"
   ]
  },
  {
   "cell_type": "code",
   "execution_count": 4,
   "metadata": {},
   "outputs": [],
   "source": [
    "# Split dataset into train and test sets\n",
    "train_size = int(0.8 * len(dataset))\n",
    "test_size = len(dataset) - train_size\n",
    "train_data, test_data = random_split(dataset, [train_size, test_size])"
   ]
  },
  {
   "cell_type": "code",
   "execution_count": 5,
   "metadata": {},
   "outputs": [],
   "source": [
    "train_dataloader = DataLoader(train_data, batch_size=64, shuffle=True)\n",
    "test_dataloader = DataLoader(test_data, batch_size=64, shuffle=True)"
   ]
  },
  {
   "cell_type": "code",
   "execution_count": 6,
   "metadata": {},
   "outputs": [
    {
     "name": "stdout",
     "output_type": "stream",
     "text": [
      "Using cuda device\n"
     ]
    }
   ],
   "source": [
    "device = (\n",
    "    \"cuda\"\n",
    "    if torch.cuda.is_available()\n",
    "    else \"mps\"\n",
    "    if torch.backends.mps.is_available()\n",
    "    else \"cpu\"\n",
    ")\n",
    "print(f\"Using {device} device\")"
   ]
  },
  {
   "cell_type": "code",
   "execution_count": 23,
   "metadata": {},
   "outputs": [],
   "source": [
    "class KeypointClassifier(nn.Module):\n",
    "    def __init__(self, input_size, num_classes):\n",
    "        super().__init__()\n",
    "        # super(KeypointClassifier, self).__init__()\n",
    "        self.dropout1 = nn.Dropout(0.2)\n",
    "        self.fc1 = nn.Linear(input_size, 128)\n",
    "        self.dropout2 = nn.Dropout(0.4)\n",
    "        self.fc2 = nn.Linear(128, 64)\n",
    "        self.fc3 = nn.Linear(64, 10)\n",
    "        self.fc4 = nn.Linear(10, num_classes)\n",
    "\n",
    "    def forward(self, x):\n",
    "        x = self.dropout1(x)\n",
    "        x = F.relu(self.fc1(x))\n",
    "        x = self.dropout2(x)\n",
    "        x = F.relu(self.fc2(x))\n",
    "        x = F.relu(self.fc3(x))\n",
    "        x = F.softmax(self.fc4(x), dim=1)\n",
    "        return x\n",
    "\n",
    "# class KeypointClassifierInference(nn.Module):\n",
    "#     def __init__(self, input_size, num_classes):\n",
    "#         super().__init__()\n",
    "#         # super(KeypointClassifier, self).__init__()\n",
    "#         self.fc1 = nn.Linear(input_size, 20)\n",
    "#         self.fc2 = nn.Linear(20, 10)\n",
    "#         self.fc3 = nn.Linear(10, num_classes)\n",
    "\n",
    "#     def forward(self, x):\n",
    "#         x = F.relu(self.fc1(x))\n",
    "#         x = F.relu(self.fc2(x))\n",
    "#         x = F.softmax(self.fc3(x), dim=1)\n",
    "#         return x\n",
    "\n",
    "model = KeypointClassifier(input_size=INPUT_SIZE, num_classes=NUM_CLASSES).to(device)\n",
    "# print(model)"
   ]
  },
  {
   "cell_type": "code",
   "execution_count": 24,
   "metadata": {},
   "outputs": [],
   "source": [
    "learning_rate = 1e-4\n",
    "batch_size = 64\n",
    "epochs = 200"
   ]
  },
  {
   "cell_type": "code",
   "execution_count": null,
   "metadata": {},
   "outputs": [
    {
     "data": {
      "text/plain": [
       "KeypointClassifierInference(\n",
       "  (fc1): Linear(in_features=42, out_features=20, bias=True)\n",
       "  (fc2): Linear(in_features=20, out_features=10, bias=True)\n",
       "  (fc3): Linear(in_features=10, out_features=4, bias=True)\n",
       ")"
      ]
     },
     "execution_count": 12,
     "metadata": {},
     "output_type": "execute_result"
    }
   ],
   "source": [
    "# model = KeypointClassifierInference(INPUT_SIZE, NUM_CLASSES)\n",
    "# model.load_state_dict(torch.load('keypoint_classifier_torch.pth', weights_only=True))\n",
    "# model.eval()"
   ]
  },
  {
   "cell_type": "code",
   "execution_count": 25,
   "metadata": {},
   "outputs": [],
   "source": [
    "loss_fn = nn.CrossEntropyLoss()\n",
    "optimizer = optim.Adam(model.parameters(), lr=learning_rate)"
   ]
  },
  {
   "cell_type": "code",
   "execution_count": 26,
   "metadata": {},
   "outputs": [
    {
     "name": "stderr",
     "output_type": "stream",
     "text": [
      "/tmp/ipykernel_1565665/809341508.py:23: FutureWarning: Series.__getitem__ treating keys as positions is deprecated. In a future version, integer keys will always be treated as labels (consistent with DataFrame behavior). To access a value by position, use `ser.iloc[pos]`\n",
      "  'label': torch.tensor(row[0], dtype=torch.long),\n"
     ]
    },
    {
     "name": "stdout",
     "output_type": "stream",
     "text": [
      "Epoch 1/200, Loss: 1.6091, Accuracy: 0.2036\n",
      "Epoch 2/200, Loss: 1.6066, Accuracy: 0.2036\n",
      "Epoch 3/200, Loss: 1.6020, Accuracy: 0.2036\n",
      "Epoch 4/200, Loss: 1.5930, Accuracy: 0.2036\n",
      "Epoch 5/200, Loss: 1.5780, Accuracy: 0.2036\n",
      "Epoch 6/200, Loss: 1.5559, Accuracy: 0.2121\n",
      "Epoch 7/200, Loss: 1.5251, Accuracy: 0.3330\n",
      "Epoch 8/200, Loss: 1.4846, Accuracy: 0.4601\n",
      "Epoch 9/200, Loss: 1.4415, Accuracy: 0.4973\n",
      "Epoch 10/200, Loss: 1.4075, Accuracy: 0.5152\n",
      "Epoch 11/200, Loss: 1.3844, Accuracy: 0.5247\n",
      "Epoch 12/200, Loss: 1.3641, Accuracy: 0.5526\n",
      "Epoch 13/200, Loss: 1.3508, Accuracy: 0.5815\n",
      "Epoch 14/200, Loss: 1.3285, Accuracy: 0.6179\n",
      "Epoch 15/200, Loss: 1.3191, Accuracy: 0.6353\n",
      "Epoch 16/200, Loss: 1.3066, Accuracy: 0.6411\n",
      "Epoch 17/200, Loss: 1.2878, Accuracy: 0.6593\n",
      "Epoch 18/200, Loss: 1.2814, Accuracy: 0.6600\n",
      "Epoch 19/200, Loss: 1.2740, Accuracy: 0.6630\n",
      "Epoch 20/200, Loss: 1.2639, Accuracy: 0.6658\n",
      "Epoch 21/200, Loss: 1.2499, Accuracy: 0.6732\n",
      "Epoch 22/200, Loss: 1.2374, Accuracy: 0.6892\n",
      "Epoch 23/200, Loss: 1.2230, Accuracy: 0.7136\n",
      "Epoch 24/200, Loss: 1.2088, Accuracy: 0.7390\n",
      "Epoch 25/200, Loss: 1.2075, Accuracy: 0.7286\n",
      "Epoch 26/200, Loss: 1.1965, Accuracy: 0.7450\n",
      "Epoch 27/200, Loss: 1.1891, Accuracy: 0.7490\n",
      "Epoch 28/200, Loss: 1.1821, Accuracy: 0.7550\n",
      "Epoch 29/200, Loss: 1.1820, Accuracy: 0.7545\n",
      "Epoch 30/200, Loss: 1.1761, Accuracy: 0.7565\n",
      "Epoch 31/200, Loss: 1.1793, Accuracy: 0.7485\n",
      "Epoch 32/200, Loss: 1.1714, Accuracy: 0.7562\n",
      "Epoch 33/200, Loss: 1.1641, Accuracy: 0.7620\n",
      "Epoch 34/200, Loss: 1.1642, Accuracy: 0.7655\n",
      "Epoch 35/200, Loss: 1.1627, Accuracy: 0.7620\n",
      "Epoch 36/200, Loss: 1.1594, Accuracy: 0.7697\n",
      "Epoch 37/200, Loss: 1.1598, Accuracy: 0.7580\n",
      "Epoch 38/200, Loss: 1.1559, Accuracy: 0.7662\n",
      "Epoch 39/200, Loss: 1.1506, Accuracy: 0.7712\n",
      "Epoch 40/200, Loss: 1.1386, Accuracy: 0.7832\n",
      "Epoch 41/200, Loss: 1.1439, Accuracy: 0.7782\n",
      "Epoch 42/200, Loss: 1.1457, Accuracy: 0.7739\n",
      "Epoch 43/200, Loss: 1.1380, Accuracy: 0.7834\n",
      "Epoch 44/200, Loss: 1.1468, Accuracy: 0.7704\n",
      "Epoch 45/200, Loss: 1.1345, Accuracy: 0.7849\n",
      "Epoch 46/200, Loss: 1.1430, Accuracy: 0.7762\n",
      "Epoch 47/200, Loss: 1.1392, Accuracy: 0.7814\n",
      "Epoch 48/200, Loss: 1.1346, Accuracy: 0.7841\n",
      "Epoch 49/200, Loss: 1.1325, Accuracy: 0.7861\n",
      "Epoch 50/200, Loss: 1.1219, Accuracy: 0.7941\n",
      "Epoch 51/200, Loss: 1.1292, Accuracy: 0.7807\n",
      "Epoch 52/200, Loss: 1.1293, Accuracy: 0.7901\n",
      "Epoch 53/200, Loss: 1.1271, Accuracy: 0.7866\n",
      "Epoch 54/200, Loss: 1.1278, Accuracy: 0.7906\n",
      "Epoch 55/200, Loss: 1.1195, Accuracy: 0.8011\n",
      "Epoch 56/200, Loss: 1.1261, Accuracy: 0.7869\n",
      "Epoch 57/200, Loss: 1.1251, Accuracy: 0.7904\n",
      "Epoch 58/200, Loss: 1.1197, Accuracy: 0.7991\n",
      "Epoch 59/200, Loss: 1.1307, Accuracy: 0.7822\n",
      "Epoch 60/200, Loss: 1.1159, Accuracy: 0.8038\n",
      "Epoch 61/200, Loss: 1.1083, Accuracy: 0.8091\n",
      "Epoch 62/200, Loss: 1.1169, Accuracy: 0.7956\n",
      "Epoch 63/200, Loss: 1.1205, Accuracy: 0.7981\n",
      "Epoch 64/200, Loss: 1.1066, Accuracy: 0.8063\n",
      "Epoch 65/200, Loss: 1.1133, Accuracy: 0.8006\n",
      "Epoch 66/200, Loss: 1.1106, Accuracy: 0.8036\n",
      "Epoch 67/200, Loss: 1.1130, Accuracy: 0.7994\n",
      "Epoch 68/200, Loss: 1.1006, Accuracy: 0.8158\n",
      "Epoch 69/200, Loss: 1.1168, Accuracy: 0.7974\n",
      "Epoch 70/200, Loss: 1.1065, Accuracy: 0.8078\n",
      "Epoch 71/200, Loss: 1.1097, Accuracy: 0.8048\n",
      "Epoch 72/200, Loss: 1.1030, Accuracy: 0.8131\n",
      "Epoch 73/200, Loss: 1.1049, Accuracy: 0.8096\n",
      "Epoch 74/200, Loss: 1.1091, Accuracy: 0.8061\n",
      "Epoch 75/200, Loss: 1.1047, Accuracy: 0.8046\n",
      "Epoch 76/200, Loss: 1.0971, Accuracy: 0.8190\n",
      "Epoch 77/200, Loss: 1.1059, Accuracy: 0.8081\n",
      "Epoch 78/200, Loss: 1.1009, Accuracy: 0.8113\n",
      "Epoch 79/200, Loss: 1.0989, Accuracy: 0.8146\n",
      "Epoch 80/200, Loss: 1.0977, Accuracy: 0.8146\n",
      "Epoch 81/200, Loss: 1.0959, Accuracy: 0.8158\n",
      "Epoch 82/200, Loss: 1.1014, Accuracy: 0.8133\n",
      "Epoch 83/200, Loss: 1.0877, Accuracy: 0.8295\n",
      "Epoch 84/200, Loss: 1.0946, Accuracy: 0.8180\n",
      "Epoch 85/200, Loss: 1.0964, Accuracy: 0.8193\n",
      "Epoch 86/200, Loss: 1.0872, Accuracy: 0.8290\n",
      "Epoch 87/200, Loss: 1.1001, Accuracy: 0.8158\n",
      "Epoch 88/200, Loss: 1.0928, Accuracy: 0.8228\n",
      "Epoch 89/200, Loss: 1.0897, Accuracy: 0.8230\n",
      "Epoch 90/200, Loss: 1.0907, Accuracy: 0.8213\n",
      "Epoch 91/200, Loss: 1.0802, Accuracy: 0.8352\n",
      "Epoch 92/200, Loss: 1.0838, Accuracy: 0.8325\n",
      "Epoch 93/200, Loss: 1.0902, Accuracy: 0.8263\n",
      "Epoch 94/200, Loss: 1.0841, Accuracy: 0.8288\n",
      "Epoch 95/200, Loss: 1.0839, Accuracy: 0.8280\n",
      "Epoch 96/200, Loss: 1.0886, Accuracy: 0.8265\n",
      "Epoch 97/200, Loss: 1.0893, Accuracy: 0.8250\n",
      "Epoch 98/200, Loss: 1.0886, Accuracy: 0.8255\n",
      "Epoch 99/200, Loss: 1.0809, Accuracy: 0.8303\n",
      "Epoch 100/200, Loss: 1.0820, Accuracy: 0.8337\n",
      "Epoch 101/200, Loss: 1.0852, Accuracy: 0.8300\n",
      "Epoch 102/200, Loss: 1.0779, Accuracy: 0.8328\n",
      "Epoch 103/200, Loss: 1.0788, Accuracy: 0.8325\n",
      "Epoch 104/200, Loss: 1.0873, Accuracy: 0.8263\n",
      "Epoch 105/200, Loss: 1.0827, Accuracy: 0.8298\n",
      "Epoch 106/200, Loss: 1.0806, Accuracy: 0.8330\n",
      "Epoch 107/200, Loss: 1.0812, Accuracy: 0.8293\n",
      "Epoch 108/200, Loss: 1.0748, Accuracy: 0.8392\n",
      "Epoch 109/200, Loss: 1.0775, Accuracy: 0.8350\n",
      "Epoch 110/200, Loss: 1.0810, Accuracy: 0.8300\n",
      "Epoch 111/200, Loss: 1.0654, Accuracy: 0.8487\n",
      "Epoch 112/200, Loss: 1.0738, Accuracy: 0.8412\n",
      "Epoch 113/200, Loss: 1.0814, Accuracy: 0.8328\n",
      "Epoch 114/200, Loss: 1.0704, Accuracy: 0.8422\n",
      "Epoch 115/200, Loss: 1.0749, Accuracy: 0.8390\n",
      "Epoch 116/200, Loss: 1.0640, Accuracy: 0.8507\n",
      "Epoch 117/200, Loss: 1.0662, Accuracy: 0.8475\n",
      "Epoch 118/200, Loss: 1.0809, Accuracy: 0.8315\n",
      "Epoch 119/200, Loss: 1.0760, Accuracy: 0.8325\n",
      "Epoch 120/200, Loss: 1.0724, Accuracy: 0.8435\n",
      "Epoch 121/200, Loss: 1.0765, Accuracy: 0.8342\n",
      "Epoch 122/200, Loss: 1.0734, Accuracy: 0.8370\n",
      "Epoch 123/200, Loss: 1.0760, Accuracy: 0.8340\n",
      "Epoch 124/200, Loss: 1.0789, Accuracy: 0.8330\n",
      "Epoch 125/200, Loss: 1.0764, Accuracy: 0.8335\n",
      "Epoch 126/200, Loss: 1.0724, Accuracy: 0.8405\n",
      "Epoch 127/200, Loss: 1.0650, Accuracy: 0.8467\n",
      "Epoch 128/200, Loss: 1.0622, Accuracy: 0.8507\n",
      "Epoch 129/200, Loss: 1.0652, Accuracy: 0.8465\n",
      "Epoch 130/200, Loss: 1.0711, Accuracy: 0.8375\n",
      "Epoch 131/200, Loss: 1.0722, Accuracy: 0.8377\n",
      "Epoch 132/200, Loss: 1.0594, Accuracy: 0.8507\n",
      "Epoch 133/200, Loss: 1.0614, Accuracy: 0.8500\n",
      "Epoch 134/200, Loss: 1.0644, Accuracy: 0.8490\n",
      "Epoch 135/200, Loss: 1.0592, Accuracy: 0.8529\n",
      "Epoch 136/200, Loss: 1.0615, Accuracy: 0.8475\n",
      "Epoch 137/200, Loss: 1.0634, Accuracy: 0.8517\n",
      "Epoch 138/200, Loss: 1.0669, Accuracy: 0.8467\n",
      "Epoch 139/200, Loss: 1.0584, Accuracy: 0.8562\n",
      "Epoch 140/200, Loss: 1.0622, Accuracy: 0.8467\n",
      "Epoch 141/200, Loss: 1.0584, Accuracy: 0.8529\n",
      "Epoch 142/200, Loss: 1.0645, Accuracy: 0.8467\n",
      "Epoch 143/200, Loss: 1.0593, Accuracy: 0.8512\n",
      "Epoch 144/200, Loss: 1.0631, Accuracy: 0.8470\n",
      "Epoch 145/200, Loss: 1.0593, Accuracy: 0.8517\n",
      "Epoch 146/200, Loss: 1.0556, Accuracy: 0.8537\n",
      "Epoch 147/200, Loss: 1.0667, Accuracy: 0.8430\n",
      "Epoch 148/200, Loss: 1.0545, Accuracy: 0.8562\n",
      "Epoch 149/200, Loss: 1.0642, Accuracy: 0.8442\n",
      "Epoch 150/200, Loss: 1.0541, Accuracy: 0.8589\n",
      "Epoch 151/200, Loss: 1.0600, Accuracy: 0.8492\n",
      "Epoch 152/200, Loss: 1.0597, Accuracy: 0.8534\n",
      "Epoch 153/200, Loss: 1.0559, Accuracy: 0.8554\n",
      "Epoch 154/200, Loss: 1.0610, Accuracy: 0.8475\n",
      "Epoch 155/200, Loss: 1.0498, Accuracy: 0.8617\n",
      "Epoch 156/200, Loss: 1.0516, Accuracy: 0.8582\n",
      "Epoch 157/200, Loss: 1.0589, Accuracy: 0.8537\n",
      "Epoch 158/200, Loss: 1.0544, Accuracy: 0.8552\n",
      "Epoch 159/200, Loss: 1.0534, Accuracy: 0.8584\n",
      "Epoch 160/200, Loss: 1.0573, Accuracy: 0.8527\n",
      "Epoch 161/200, Loss: 1.0532, Accuracy: 0.8579\n",
      "Epoch 162/200, Loss: 1.0560, Accuracy: 0.8517\n",
      "Epoch 163/200, Loss: 1.0543, Accuracy: 0.8572\n",
      "Epoch 164/200, Loss: 1.0551, Accuracy: 0.8584\n",
      "Epoch 165/200, Loss: 1.0534, Accuracy: 0.8577\n",
      "Epoch 166/200, Loss: 1.0464, Accuracy: 0.8647\n",
      "Epoch 167/200, Loss: 1.0495, Accuracy: 0.8624\n",
      "Epoch 168/200, Loss: 1.0525, Accuracy: 0.8562\n",
      "Epoch 169/200, Loss: 1.0493, Accuracy: 0.8599\n",
      "Epoch 170/200, Loss: 1.0522, Accuracy: 0.8582\n",
      "Epoch 171/200, Loss: 1.0554, Accuracy: 0.8542\n",
      "Epoch 172/200, Loss: 1.0518, Accuracy: 0.8572\n",
      "Epoch 173/200, Loss: 1.0596, Accuracy: 0.8509\n",
      "Epoch 174/200, Loss: 1.0434, Accuracy: 0.8674\n",
      "Epoch 175/200, Loss: 1.0443, Accuracy: 0.8654\n",
      "Epoch 176/200, Loss: 1.0579, Accuracy: 0.8517\n",
      "Epoch 177/200, Loss: 1.0496, Accuracy: 0.8612\n",
      "Epoch 178/200, Loss: 1.0482, Accuracy: 0.8599\n",
      "Epoch 179/200, Loss: 1.0452, Accuracy: 0.8652\n",
      "Epoch 180/200, Loss: 1.0588, Accuracy: 0.8512\n",
      "Epoch 181/200, Loss: 1.0464, Accuracy: 0.8632\n",
      "Epoch 182/200, Loss: 1.0474, Accuracy: 0.8622\n",
      "Epoch 183/200, Loss: 1.0459, Accuracy: 0.8644\n",
      "Epoch 184/200, Loss: 1.0512, Accuracy: 0.8592\n",
      "Epoch 185/200, Loss: 1.0384, Accuracy: 0.8711\n",
      "Epoch 186/200, Loss: 1.0449, Accuracy: 0.8664\n",
      "Epoch 187/200, Loss: 1.0438, Accuracy: 0.8654\n",
      "Epoch 188/200, Loss: 1.0482, Accuracy: 0.8622\n",
      "Epoch 189/200, Loss: 1.0511, Accuracy: 0.8587\n",
      "Epoch 190/200, Loss: 1.0413, Accuracy: 0.8681\n",
      "Epoch 191/200, Loss: 1.0498, Accuracy: 0.8574\n",
      "Epoch 192/200, Loss: 1.0434, Accuracy: 0.8657\n",
      "Epoch 193/200, Loss: 1.0391, Accuracy: 0.8731\n",
      "Epoch 194/200, Loss: 1.0454, Accuracy: 0.8652\n",
      "Epoch 195/200, Loss: 1.0455, Accuracy: 0.8622\n",
      "Epoch 196/200, Loss: 1.0343, Accuracy: 0.8766\n",
      "Epoch 197/200, Loss: 1.0446, Accuracy: 0.8652\n",
      "Epoch 198/200, Loss: 1.0470, Accuracy: 0.8627\n",
      "Epoch 199/200, Loss: 1.0415, Accuracy: 0.8667\n",
      "Epoch 200/200, Loss: 1.0382, Accuracy: 0.8736\n"
     ]
    }
   ],
   "source": [
    "for epoch in range(epochs):\n",
    "    running_loss = 0.0\n",
    "    running_accuracy = 0.0\n",
    "    \n",
    "\n",
    "    for batch in train_dataloader:\n",
    "        features = batch['features']\n",
    "        labels = batch['label']\n",
    "        \n",
    "        features = features.to(device)\n",
    "        labels = labels.to(device)\n",
    "\n",
    "        # Zero the parameter gradients\n",
    "        optimizer.zero_grad()\n",
    "\n",
    "\n",
    "        # Forward pass\n",
    "        outputs = model(features)\n",
    "\n",
    "        # Compute loss\n",
    "        loss = loss_fn(outputs, labels)\n",
    "\n",
    "        # Backward pass and optimization\n",
    "        loss.backward()\n",
    "        optimizer.step()\n",
    "\n",
    "        # Update running metrics\n",
    "        running_loss += loss.item() * features.size(0)\n",
    "        _, predicted = torch.max(outputs, 1)\n",
    "        running_accuracy += (predicted == labels).sum().item()\n",
    "\n",
    "    epoch_loss = running_loss / len(train_dataloader.dataset)\n",
    "    epoch_accuracy = running_accuracy / len(train_dataloader.dataset)\n",
    "    print(f\"Epoch {epoch + 1}/{epochs}, Loss: {epoch_loss:.4f}, Accuracy: {epoch_accuracy:.4f}\")"
   ]
  },
  {
   "cell_type": "code",
   "execution_count": 28,
   "metadata": {},
   "outputs": [
    {
     "name": "stdout",
     "output_type": "stream",
     "text": [
      "Test Loss: 0.9522, Test Accuracy: 0.9721\n"
     ]
    },
    {
     "name": "stderr",
     "output_type": "stream",
     "text": [
      "/tmp/ipykernel_1565665/809341508.py:23: FutureWarning: Series.__getitem__ treating keys as positions is deprecated. In a future version, integer keys will always be treated as labels (consistent with DataFrame behavior). To access a value by position, use `ser.iloc[pos]`\n",
      "  'label': torch.tensor(row[0], dtype=torch.long),\n"
     ]
    }
   ],
   "source": [
    "model.eval()\n",
    "\n",
    "test_loss = 0.0\n",
    "test_accuracy = 0.0\n",
    "\n",
    "with torch.no_grad():\n",
    "    for batch in test_dataloader:\n",
    "        features = batch['features']\n",
    "        labels = batch['label']\n",
    "\n",
    "        features = features.to(device)\n",
    "        labels = labels.to(device)\n",
    "        \n",
    "        # Forward pass\n",
    "        outputs = model(features)\n",
    "\n",
    "        # Compute loss\n",
    "        loss = loss_fn(outputs, labels)\n",
    "\n",
    "        # Update test metrics\n",
    "        test_loss += loss.item() * features.size(0)\n",
    "        _, predicted = torch.max(outputs, 1)\n",
    "        test_accuracy += (predicted == labels).sum().item()\n",
    "\n",
    "test_loss /= len(test_dataloader.dataset)\n",
    "test_accuracy /= len(test_dataloader.dataset)\n",
    "print(f\"Test Loss: {test_loss:.4f}, Test Accuracy: {test_accuracy:.4f}\")\n"
   ]
  },
  {
   "cell_type": "code",
   "execution_count": 29,
   "metadata": {},
   "outputs": [
    {
     "name": "stdout",
     "output_type": "stream",
     "text": [
      "Model saved to keypoint_classifier_torch.pth\n"
     ]
    }
   ],
   "source": [
    "model_save_path = 'keypoint_classifier_torch.pth'\n",
    "torch.save(model.state_dict(), model_save_path)\n",
    "print(f\"Model saved to {model_save_path}\")"
   ]
  },
  {
   "cell_type": "code",
   "execution_count": 30,
   "metadata": {},
   "outputs": [
    {
     "name": "stderr",
     "output_type": "stream",
     "text": [
      "/tmp/ipykernel_1565665/809341508.py:23: FutureWarning: Series.__getitem__ treating keys as positions is deprecated. In a future version, integer keys will always be treated as labels (consistent with DataFrame behavior). To access a value by position, use `ser.iloc[pos]`\n",
      "  'label': torch.tensor(row[0], dtype=torch.long),\n"
     ]
    },
    {
     "ename": "RuntimeError",
     "evalue": "Expected all tensors to be on the same device, but found at least two devices, cuda:0 and cpu! (when checking argument for argument mat1 in method wrapper_CUDA_addmm)",
     "output_type": "error",
     "traceback": [
      "\u001b[0;31m---------------------------------------------------------------------------\u001b[0m",
      "\u001b[0;31mRuntimeError\u001b[0m                              Traceback (most recent call last)",
      "Cell \u001b[0;32mIn[30], line 6\u001b[0m\n\u001b[1;32m      4\u001b[0m     features, label \u001b[38;5;241m=\u001b[39m sample[\u001b[38;5;124m'\u001b[39m\u001b[38;5;124mfeatures\u001b[39m\u001b[38;5;124m'\u001b[39m], sample[\u001b[38;5;124m'\u001b[39m\u001b[38;5;124mlabel\u001b[39m\u001b[38;5;124m'\u001b[39m]\n\u001b[1;32m      5\u001b[0m     features \u001b[38;5;241m=\u001b[39m features\u001b[38;5;241m.\u001b[39munsqueeze(\u001b[38;5;241m0\u001b[39m)\n\u001b[0;32m----> 6\u001b[0m     outputs \u001b[38;5;241m=\u001b[39m \u001b[43mmodel\u001b[49m\u001b[43m(\u001b[49m\u001b[43mfeatures\u001b[49m\u001b[43m)\u001b[49m\n\u001b[1;32m      7\u001b[0m _, predicted \u001b[38;5;241m=\u001b[39m torch\u001b[38;5;241m.\u001b[39mmax(outputs, \u001b[38;5;241m1\u001b[39m)\n\u001b[1;32m      8\u001b[0m predicted\u001b[38;5;241m.\u001b[39mitem()\n",
      "File \u001b[0;32m~/Downloads/NAI-Head/.conda-env/lib/python3.10/site-packages/torch/nn/modules/module.py:1736\u001b[0m, in \u001b[0;36mModule._wrapped_call_impl\u001b[0;34m(self, *args, **kwargs)\u001b[0m\n\u001b[1;32m   1734\u001b[0m     \u001b[38;5;28;01mreturn\u001b[39;00m \u001b[38;5;28mself\u001b[39m\u001b[38;5;241m.\u001b[39m_compiled_call_impl(\u001b[38;5;241m*\u001b[39margs, \u001b[38;5;241m*\u001b[39m\u001b[38;5;241m*\u001b[39mkwargs)  \u001b[38;5;66;03m# type: ignore[misc]\u001b[39;00m\n\u001b[1;32m   1735\u001b[0m \u001b[38;5;28;01melse\u001b[39;00m:\n\u001b[0;32m-> 1736\u001b[0m     \u001b[38;5;28;01mreturn\u001b[39;00m \u001b[38;5;28;43mself\u001b[39;49m\u001b[38;5;241;43m.\u001b[39;49m\u001b[43m_call_impl\u001b[49m\u001b[43m(\u001b[49m\u001b[38;5;241;43m*\u001b[39;49m\u001b[43margs\u001b[49m\u001b[43m,\u001b[49m\u001b[43m \u001b[49m\u001b[38;5;241;43m*\u001b[39;49m\u001b[38;5;241;43m*\u001b[39;49m\u001b[43mkwargs\u001b[49m\u001b[43m)\u001b[49m\n",
      "File \u001b[0;32m~/Downloads/NAI-Head/.conda-env/lib/python3.10/site-packages/torch/nn/modules/module.py:1747\u001b[0m, in \u001b[0;36mModule._call_impl\u001b[0;34m(self, *args, **kwargs)\u001b[0m\n\u001b[1;32m   1742\u001b[0m \u001b[38;5;66;03m# If we don't have any hooks, we want to skip the rest of the logic in\u001b[39;00m\n\u001b[1;32m   1743\u001b[0m \u001b[38;5;66;03m# this function, and just call forward.\u001b[39;00m\n\u001b[1;32m   1744\u001b[0m \u001b[38;5;28;01mif\u001b[39;00m \u001b[38;5;129;01mnot\u001b[39;00m (\u001b[38;5;28mself\u001b[39m\u001b[38;5;241m.\u001b[39m_backward_hooks \u001b[38;5;129;01mor\u001b[39;00m \u001b[38;5;28mself\u001b[39m\u001b[38;5;241m.\u001b[39m_backward_pre_hooks \u001b[38;5;129;01mor\u001b[39;00m \u001b[38;5;28mself\u001b[39m\u001b[38;5;241m.\u001b[39m_forward_hooks \u001b[38;5;129;01mor\u001b[39;00m \u001b[38;5;28mself\u001b[39m\u001b[38;5;241m.\u001b[39m_forward_pre_hooks\n\u001b[1;32m   1745\u001b[0m         \u001b[38;5;129;01mor\u001b[39;00m _global_backward_pre_hooks \u001b[38;5;129;01mor\u001b[39;00m _global_backward_hooks\n\u001b[1;32m   1746\u001b[0m         \u001b[38;5;129;01mor\u001b[39;00m _global_forward_hooks \u001b[38;5;129;01mor\u001b[39;00m _global_forward_pre_hooks):\n\u001b[0;32m-> 1747\u001b[0m     \u001b[38;5;28;01mreturn\u001b[39;00m \u001b[43mforward_call\u001b[49m\u001b[43m(\u001b[49m\u001b[38;5;241;43m*\u001b[39;49m\u001b[43margs\u001b[49m\u001b[43m,\u001b[49m\u001b[43m \u001b[49m\u001b[38;5;241;43m*\u001b[39;49m\u001b[38;5;241;43m*\u001b[39;49m\u001b[43mkwargs\u001b[49m\u001b[43m)\u001b[49m\n\u001b[1;32m   1749\u001b[0m result \u001b[38;5;241m=\u001b[39m \u001b[38;5;28;01mNone\u001b[39;00m\n\u001b[1;32m   1750\u001b[0m called_always_called_hooks \u001b[38;5;241m=\u001b[39m \u001b[38;5;28mset\u001b[39m()\n",
      "Cell \u001b[0;32mIn[23], line 14\u001b[0m, in \u001b[0;36mKeypointClassifier.forward\u001b[0;34m(self, x)\u001b[0m\n\u001b[1;32m     12\u001b[0m \u001b[38;5;28;01mdef\u001b[39;00m \u001b[38;5;21mforward\u001b[39m(\u001b[38;5;28mself\u001b[39m, x):\n\u001b[1;32m     13\u001b[0m     x \u001b[38;5;241m=\u001b[39m \u001b[38;5;28mself\u001b[39m\u001b[38;5;241m.\u001b[39mdropout1(x)\n\u001b[0;32m---> 14\u001b[0m     x \u001b[38;5;241m=\u001b[39m F\u001b[38;5;241m.\u001b[39mrelu(\u001b[38;5;28;43mself\u001b[39;49m\u001b[38;5;241;43m.\u001b[39;49m\u001b[43mfc1\u001b[49m\u001b[43m(\u001b[49m\u001b[43mx\u001b[49m\u001b[43m)\u001b[49m)\n\u001b[1;32m     15\u001b[0m     x \u001b[38;5;241m=\u001b[39m \u001b[38;5;28mself\u001b[39m\u001b[38;5;241m.\u001b[39mdropout2(x)\n\u001b[1;32m     16\u001b[0m     x \u001b[38;5;241m=\u001b[39m F\u001b[38;5;241m.\u001b[39mrelu(\u001b[38;5;28mself\u001b[39m\u001b[38;5;241m.\u001b[39mfc2(x))\n",
      "File \u001b[0;32m~/Downloads/NAI-Head/.conda-env/lib/python3.10/site-packages/torch/nn/modules/module.py:1736\u001b[0m, in \u001b[0;36mModule._wrapped_call_impl\u001b[0;34m(self, *args, **kwargs)\u001b[0m\n\u001b[1;32m   1734\u001b[0m     \u001b[38;5;28;01mreturn\u001b[39;00m \u001b[38;5;28mself\u001b[39m\u001b[38;5;241m.\u001b[39m_compiled_call_impl(\u001b[38;5;241m*\u001b[39margs, \u001b[38;5;241m*\u001b[39m\u001b[38;5;241m*\u001b[39mkwargs)  \u001b[38;5;66;03m# type: ignore[misc]\u001b[39;00m\n\u001b[1;32m   1735\u001b[0m \u001b[38;5;28;01melse\u001b[39;00m:\n\u001b[0;32m-> 1736\u001b[0m     \u001b[38;5;28;01mreturn\u001b[39;00m \u001b[38;5;28;43mself\u001b[39;49m\u001b[38;5;241;43m.\u001b[39;49m\u001b[43m_call_impl\u001b[49m\u001b[43m(\u001b[49m\u001b[38;5;241;43m*\u001b[39;49m\u001b[43margs\u001b[49m\u001b[43m,\u001b[49m\u001b[43m \u001b[49m\u001b[38;5;241;43m*\u001b[39;49m\u001b[38;5;241;43m*\u001b[39;49m\u001b[43mkwargs\u001b[49m\u001b[43m)\u001b[49m\n",
      "File \u001b[0;32m~/Downloads/NAI-Head/.conda-env/lib/python3.10/site-packages/torch/nn/modules/module.py:1747\u001b[0m, in \u001b[0;36mModule._call_impl\u001b[0;34m(self, *args, **kwargs)\u001b[0m\n\u001b[1;32m   1742\u001b[0m \u001b[38;5;66;03m# If we don't have any hooks, we want to skip the rest of the logic in\u001b[39;00m\n\u001b[1;32m   1743\u001b[0m \u001b[38;5;66;03m# this function, and just call forward.\u001b[39;00m\n\u001b[1;32m   1744\u001b[0m \u001b[38;5;28;01mif\u001b[39;00m \u001b[38;5;129;01mnot\u001b[39;00m (\u001b[38;5;28mself\u001b[39m\u001b[38;5;241m.\u001b[39m_backward_hooks \u001b[38;5;129;01mor\u001b[39;00m \u001b[38;5;28mself\u001b[39m\u001b[38;5;241m.\u001b[39m_backward_pre_hooks \u001b[38;5;129;01mor\u001b[39;00m \u001b[38;5;28mself\u001b[39m\u001b[38;5;241m.\u001b[39m_forward_hooks \u001b[38;5;129;01mor\u001b[39;00m \u001b[38;5;28mself\u001b[39m\u001b[38;5;241m.\u001b[39m_forward_pre_hooks\n\u001b[1;32m   1745\u001b[0m         \u001b[38;5;129;01mor\u001b[39;00m _global_backward_pre_hooks \u001b[38;5;129;01mor\u001b[39;00m _global_backward_hooks\n\u001b[1;32m   1746\u001b[0m         \u001b[38;5;129;01mor\u001b[39;00m _global_forward_hooks \u001b[38;5;129;01mor\u001b[39;00m _global_forward_pre_hooks):\n\u001b[0;32m-> 1747\u001b[0m     \u001b[38;5;28;01mreturn\u001b[39;00m \u001b[43mforward_call\u001b[49m\u001b[43m(\u001b[49m\u001b[38;5;241;43m*\u001b[39;49m\u001b[43margs\u001b[49m\u001b[43m,\u001b[49m\u001b[43m \u001b[49m\u001b[38;5;241;43m*\u001b[39;49m\u001b[38;5;241;43m*\u001b[39;49m\u001b[43mkwargs\u001b[49m\u001b[43m)\u001b[49m\n\u001b[1;32m   1749\u001b[0m result \u001b[38;5;241m=\u001b[39m \u001b[38;5;28;01mNone\u001b[39;00m\n\u001b[1;32m   1750\u001b[0m called_always_called_hooks \u001b[38;5;241m=\u001b[39m \u001b[38;5;28mset\u001b[39m()\n",
      "File \u001b[0;32m~/Downloads/NAI-Head/.conda-env/lib/python3.10/site-packages/torch/nn/modules/linear.py:125\u001b[0m, in \u001b[0;36mLinear.forward\u001b[0;34m(self, input)\u001b[0m\n\u001b[1;32m    124\u001b[0m \u001b[38;5;28;01mdef\u001b[39;00m \u001b[38;5;21mforward\u001b[39m(\u001b[38;5;28mself\u001b[39m, \u001b[38;5;28minput\u001b[39m: Tensor) \u001b[38;5;241m-\u001b[39m\u001b[38;5;241m>\u001b[39m Tensor:\n\u001b[0;32m--> 125\u001b[0m     \u001b[38;5;28;01mreturn\u001b[39;00m \u001b[43mF\u001b[49m\u001b[38;5;241;43m.\u001b[39;49m\u001b[43mlinear\u001b[49m\u001b[43m(\u001b[49m\u001b[38;5;28;43minput\u001b[39;49m\u001b[43m,\u001b[49m\u001b[43m \u001b[49m\u001b[38;5;28;43mself\u001b[39;49m\u001b[38;5;241;43m.\u001b[39;49m\u001b[43mweight\u001b[49m\u001b[43m,\u001b[49m\u001b[43m \u001b[49m\u001b[38;5;28;43mself\u001b[39;49m\u001b[38;5;241;43m.\u001b[39;49m\u001b[43mbias\u001b[49m\u001b[43m)\u001b[49m\n",
      "\u001b[0;31mRuntimeError\u001b[0m: Expected all tensors to be on the same device, but found at least two devices, cuda:0 and cpu! (when checking argument for argument mat1 in method wrapper_CUDA_addmm)"
     ]
    }
   ],
   "source": [
    "model.eval()\n",
    "with torch.no_grad():\n",
    "    sample = next(iter(test_data))\n",
    "    features, label = sample['features'], sample['label']\n",
    "    \n",
    "    features = features.to(device)\n",
    "    labels = labels.to(device)\n",
    "    \n",
    "    features = features.unsqueeze(0)\n",
    "    outputs = model(features)\n",
    "_, predicted = torch.max(outputs, 1)\n",
    "predicted.item()"
   ]
  },
  {
   "cell_type": "code",
   "execution_count": 15,
   "metadata": {},
   "outputs": [],
   "source": [
    "from torchconverter import TracedModule"
   ]
  },
  {
   "cell_type": "code",
   "execution_count": 16,
   "metadata": {},
   "outputs": [
    {
     "name": "stderr",
     "output_type": "stream",
     "text": [
      "/var/folders/zc/tnc802757nxgdvkzl8xbnq6h0000gn/T/ipykernel_72601/809341508.py:23: FutureWarning: Series.__getitem__ treating keys as positions is deprecated. In a future version, integer keys will always be treated as labels (consistent with DataFrame behavior). To access a value by position, use `ser.iloc[pos]`\n",
      "  'label': torch.tensor(row[0], dtype=torch.long),\n"
     ]
    }
   ],
   "source": [
    "sample = next(iter(test_data))\n",
    "features, label = sample['features'], sample['label']\n",
    "features = features.unsqueeze(0)"
   ]
  },
  {
   "cell_type": "code",
   "execution_count": null,
   "metadata": {},
   "outputs": [
    {
     "name": "stdout",
     "output_type": "stream",
     "text": [
      "placeholder: x\n",
      "call module: fc1 fc1\n",
      "call function: relu <function relu at 0x10a59bc70> (fc1,)\n",
      "call module: fc2 fc2\n",
      "call function: relu_1 <function relu at 0x10a59bc70> (fc2,)\n",
      "call module: fc3 fc3\n",
      "call function: softmax <function softmax at 0x10a5a44c0> (fc3,)\n",
      "output: output torch.Size([1, 4]) torch.float32\n",
      "opcode         name     target                             args        kwargs\n",
      "-------------  -------  ---------------------------------  ----------  -------------------------------------------\n",
      "placeholder    x        x                                  ()          {}\n",
      "call_module    fc1      fc1                                (x,)        {}\n",
      "call_function  relu     <function relu at 0x10a59bc70>     (fc1,)      {'inplace': False}\n",
      "call_module    fc2      fc2                                (relu,)     {}\n",
      "call_function  relu_1   <function relu at 0x10a59bc70>     (fc2,)      {'inplace': False}\n",
      "call_module    fc3      fc3                                (relu_1,)   {}\n",
      "call_function  softmax  <function softmax at 0x10a5a44c0>  (fc3,)      {'dim': 1, '_stacklevel': 3, 'dtype': None}\n",
      "output         output   output                             (softmax,)  {}\n"
     ]
    },
    {
     "data": {
      "text/plain": [
       "tensor([[0.2134, 0.3199, 0.2371, 0.2295]], grad_fn=<SoftmaxBackward0>)"
      ]
     },
     "execution_count": 20,
     "metadata": {},
     "output_type": "execute_result"
    }
   ],
   "source": [
    "m = TracedModule(model)\n",
    "output = m.forward(torch.ones_like(features))\n",
    "m.print_graph()\n",
    "output\n",
    "m.convert()\n"
   ]
  },
  {
   "cell_type": "code",
   "execution_count": null,
   "metadata": {},
   "outputs": [],
   "source": []
  }
 ],
 "metadata": {
  "kernelspec": {
   "display_name": "Python 3 (ipykernel)",
   "language": "python",
   "name": "python3"
  },
  "language_info": {
   "codemirror_mode": {
    "name": "ipython",
    "version": 3
   },
   "file_extension": ".py",
   "mimetype": "text/x-python",
   "name": "python",
   "nbconvert_exporter": "python",
   "pygments_lexer": "ipython3",
   "version": "3.10.16"
  }
 },
 "nbformat": 4,
 "nbformat_minor": 4
}
