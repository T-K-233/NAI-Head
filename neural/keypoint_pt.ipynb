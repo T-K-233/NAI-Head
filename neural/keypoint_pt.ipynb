{
 "cells": [
  {
   "cell_type": "code",
   "execution_count": 1,
   "metadata": {},
   "outputs": [],
   "source": [
    "import csv\n",
    "\n",
    "import numpy as np\n",
    "\n",
    "import os\n",
    "from torchvision import transforms\n",
    "from torch.utils.data import Dataset, DataLoader, random_split\n",
    "import torch\n",
    "import torch.nn as nn\n",
    "import torch.optim as optim\n",
    "import pandas as pd\n",
    "import torch.nn.functional as F\n",
    "\n",
    "# from sklearn.model_selection import train_test_split\n",
    "# RANDOM_SEED = 42"
   ]
  },
  {
   "cell_type": "code",
   "execution_count": null,
   "metadata": {},
   "outputs": [],
   "source": [
    "# TODO: add dataset\n",
    "dataset = 'model/keypoint_classifier/keypoint.csv'\n",
    "NUM_CLASSES = 4"
   ]
  },
  {
   "cell_type": "code",
   "execution_count": 3,
   "metadata": {},
   "outputs": [],
   "source": [
    "class KeypointDataset(Dataset):\n",
    "    def __init__(self, csv_file, transform=None):\n",
    "        \"\"\"\n",
    "        Args:\n",
    "            csv_file (str): Path to the CSV file.\n",
    "            transform (callable, optional): Optional transform to be applied\n",
    "                on a sample.\n",
    "        \"\"\"\n",
    "        self.data_frame = pd.read_csv(csv_file)\n",
    "        self.transform = transform\n",
    "\n",
    "    def __len__(self):\n",
    "        return len(self.data_frame)\n",
    "\n",
    "    def __getitem__(self, idx):\n",
    "        if torch.is_tensor(idx):\n",
    "            idx = idx.tolist()\n",
    "\n",
    "        # Extract the data row corresponding to the index\n",
    "        row = self.data_frame.iloc[idx]\n",
    "        # Assuming the first columns are features and the last column is the label\n",
    "        sample = {\n",
    "                    'label': torch.tensor(row[0], dtype=torch.long),\n",
    "                    'features': torch.tensor(row[1:].values, dtype=torch.float32)\n",
    "                }\n",
    "\n",
    "        if self.transform:\n",
    "            sample = self.transform(sample)\n",
    "\n",
    "        return sample"
   ]
  },
  {
   "cell_type": "code",
   "execution_count": 4,
   "metadata": {},
   "outputs": [],
   "source": [
    "csv_file_path = 'model/keypoint_classifier/keypoint.csv'\n",
    "dataset = KeypointDataset(csv_file=csv_file_path)"
   ]
  },
  {
   "cell_type": "code",
   "execution_count": 5,
   "metadata": {},
   "outputs": [],
   "source": [
    "# Split dataset into train and test sets\n",
    "train_size = int(0.8 * len(dataset))\n",
    "test_size = len(dataset) - train_size\n",
    "train_data, test_data = random_split(dataset, [train_size, test_size])"
   ]
  },
  {
   "cell_type": "code",
   "execution_count": 6,
   "metadata": {},
   "outputs": [],
   "source": [
    "train_dataloader = DataLoader(train_data, batch_size=64, shuffle=True)\n",
    "test_dataloader = DataLoader(test_data, batch_size=64, shuffle=True)"
   ]
  },
  {
   "cell_type": "code",
   "execution_count": 7,
   "metadata": {},
   "outputs": [
    {
     "name": "stdout",
     "output_type": "stream",
     "text": [
      "Using cpu device\n"
     ]
    }
   ],
   "source": [
    "device = (\n",
    "    \"cuda\"\n",
    "    if torch.cuda.is_available()\n",
    "    else \"mps\"\n",
    "    if torch.backends.mps.is_available()\n",
    "    else \"cpu\"\n",
    ")\n",
    "print(f\"Using {device} device\")"
   ]
  },
  {
   "cell_type": "code",
   "execution_count": 10,
   "metadata": {},
   "outputs": [],
   "source": [
    "class KeypointClassifier(nn.Module):\n",
    "    def __init__(self, input_size, num_classes):\n",
    "        super().__init__()\n",
    "        # super(KeypointClassifier, self).__init__()\n",
    "        self.dropout1 = nn.Dropout(0.2)\n",
    "        self.fc1 = nn.Linear(input_size, 20)\n",
    "        self.dropout2 = nn.Dropout(0.4)\n",
    "        self.fc2 = nn.Linear(20, 10)\n",
    "        self.fc3 = nn.Linear(10, num_classes)\n",
    "\n",
    "    def forward(self, x):\n",
    "        x = self.dropout1(x)\n",
    "        x = F.relu(self.fc1(x))\n",
    "        x = self.dropout2(x)\n",
    "        x = F.relu(self.fc2(x))\n",
    "        x = F.softmax(self.fc3(x), dim=1)\n",
    "        return x\n",
    "\n",
    "class KeypointClassifierInference(nn.Module):\n",
    "    def __init__(self, input_size, num_classes):\n",
    "        super().__init__()\n",
    "        # super(KeypointClassifier, self).__init__()\n",
    "        self.fc1 = nn.Linear(input_size, 20)\n",
    "        self.fc2 = nn.Linear(20, 10)\n",
    "        self.fc3 = nn.Linear(10, num_classes)\n",
    "\n",
    "    def forward(self, x):\n",
    "        x = F.relu(self.fc1(x))\n",
    "        x = F.relu(self.fc2(x))\n",
    "        x = F.softmax(self.fc3(x), dim=1)\n",
    "        return x\n",
    "\n",
    "# Example usage\n",
    "INPUT_SIZE = 21 * 2  # Number of input features\n",
    "NUM_CLASSES = 4      # Adjust based on your use case\n",
    "\n",
    "# model = KeypointClassifier(input_size=INPUT_SIZE, num_classes=NUM_CLASSES).to(device)\n",
    "# print(model)"
   ]
  },
  {
   "cell_type": "code",
   "execution_count": 11,
   "metadata": {},
   "outputs": [],
   "source": [
    "learning_rate = 1e-3\n",
    "batch_size = 64\n",
    "epochs = 10"
   ]
  },
  {
   "cell_type": "code",
   "execution_count": 12,
   "metadata": {},
   "outputs": [
    {
     "data": {
      "text/plain": [
       "KeypointClassifierInference(\n",
       "  (fc1): Linear(in_features=42, out_features=20, bias=True)\n",
       "  (fc2): Linear(in_features=20, out_features=10, bias=True)\n",
       "  (fc3): Linear(in_features=10, out_features=4, bias=True)\n",
       ")"
      ]
     },
     "execution_count": 12,
     "metadata": {},
     "output_type": "execute_result"
    }
   ],
   "source": [
    "model = KeypointClassifierInference(INPUT_SIZE, NUM_CLASSES)\n",
    "model.load_state_dict(torch.load('keypoint_classifier_torch.pth', weights_only=True))\n",
    "model.eval()"
   ]
  },
  {
   "cell_type": "code",
   "execution_count": 13,
   "metadata": {},
   "outputs": [],
   "source": [
    "loss_fn = nn.CrossEntropyLoss()\n",
    "optimizer = optim.Adam(model.parameters(), lr=learning_rate)"
   ]
  },
  {
   "cell_type": "code",
   "execution_count": 16,
   "metadata": {},
   "outputs": [
    {
     "name": "stderr",
     "output_type": "stream",
     "text": [
      "/var/folders/zc/tnc802757nxgdvkzl8xbnq6h0000gn/T/ipykernel_69078/809341508.py:23: FutureWarning: Series.__getitem__ treating keys as positions is deprecated. In a future version, integer keys will always be treated as labels (consistent with DataFrame behavior). To access a value by position, use `ser.iloc[pos]`\n",
      "  'label': torch.tensor(row[0], dtype=torch.long),\n"
     ]
    },
    {
     "name": "stdout",
     "output_type": "stream",
     "text": [
      "Epoch 1/10, Loss: 1.3667, Accuracy: 0.3271\n",
      "Epoch 2/10, Loss: 1.3277, Accuracy: 0.3273\n",
      "Epoch 3/10, Loss: 1.3044, Accuracy: 0.3318\n",
      "Epoch 4/10, Loss: 1.2700, Accuracy: 0.4412\n",
      "Epoch 5/10, Loss: 1.2221, Accuracy: 0.5230\n",
      "Epoch 6/10, Loss: 1.1833, Accuracy: 0.5812\n",
      "Epoch 7/10, Loss: 1.1461, Accuracy: 0.6223\n",
      "Epoch 8/10, Loss: 1.1227, Accuracy: 0.6330\n",
      "Epoch 9/10, Loss: 1.1115, Accuracy: 0.6471\n",
      "Epoch 10/10, Loss: 1.0953, Accuracy: 0.6667\n"
     ]
    }
   ],
   "source": [
    "for epoch in range(epochs):\n",
    "    model.train()\n",
    "    running_loss = 0.0\n",
    "    running_accuracy = 0.0\n",
    "\n",
    "    for batch in train_dataloader:\n",
    "        features = batch['features']\n",
    "        labels = batch['label']\n",
    "\n",
    "        # Zero the parameter gradients\n",
    "        optimizer.zero_grad()\n",
    "\n",
    "        # Forward pass\n",
    "        outputs = model(features)\n",
    "\n",
    "        # Compute loss\n",
    "        loss = loss_fn(outputs, labels)\n",
    "\n",
    "        # Backward pass and optimization\n",
    "        loss.backward()\n",
    "        optimizer.step()\n",
    "\n",
    "        # Update running metrics\n",
    "        running_loss += loss.item() * features.size(0)\n",
    "        _, predicted = torch.max(outputs, 1)\n",
    "        running_accuracy += (predicted == labels).sum().item()\n",
    "\n",
    "    epoch_loss = running_loss / len(train_dataloader.dataset)\n",
    "    epoch_accuracy = running_accuracy / len(train_dataloader.dataset)\n",
    "    print(f\"Epoch {epoch + 1}/{epochs}, Loss: {epoch_loss:.4f}, Accuracy: {epoch_accuracy:.4f}\")"
   ]
  },
  {
   "cell_type": "code",
   "execution_count": 14,
   "metadata": {},
   "outputs": [
    {
     "name": "stderr",
     "output_type": "stream",
     "text": [
      "/var/folders/zc/tnc802757nxgdvkzl8xbnq6h0000gn/T/ipykernel_72601/809341508.py:23: FutureWarning: Series.__getitem__ treating keys as positions is deprecated. In a future version, integer keys will always be treated as labels (consistent with DataFrame behavior). To access a value by position, use `ser.iloc[pos]`\n",
      "  'label': torch.tensor(row[0], dtype=torch.long),\n"
     ]
    },
    {
     "name": "stdout",
     "output_type": "stream",
     "text": [
      "Test Loss: 1.3860, Test Accuracy: 0.3455\n"
     ]
    }
   ],
   "source": [
    "model.eval()\n",
    "\n",
    "test_loss = 0.0\n",
    "test_accuracy = 0.0\n",
    "\n",
    "with torch.no_grad():\n",
    "    for batch in test_dataloader:\n",
    "        features = batch['features']\n",
    "        labels = batch['label']\n",
    "\n",
    "        # Forward pass\n",
    "        outputs = model(features)\n",
    "\n",
    "        # Compute loss\n",
    "        loss = loss_fn(outputs, labels)\n",
    "\n",
    "        # Update test metrics\n",
    "        test_loss += loss.item() * features.size(0)\n",
    "        _, predicted = torch.max(outputs, 1)\n",
    "        test_accuracy += (predicted == labels).sum().item()\n",
    "\n",
    "test_loss /= len(test_dataloader.dataset)\n",
    "test_accuracy /= len(test_dataloader.dataset)\n",
    "print(f\"Test Loss: {test_loss:.4f}, Test Accuracy: {test_accuracy:.4f}\")\n"
   ]
  },
  {
   "cell_type": "code",
   "execution_count": null,
   "metadata": {},
   "outputs": [],
   "source": [
    "model_save_path = 'keypoint_classifier_torch.pth'\n",
    "torch.save(model.state_dict(), model_save_path)\n",
    "print(f\"Model saved to {model_save_path}\")"
   ]
  },
  {
   "cell_type": "code",
   "execution_count": 21,
   "metadata": {},
   "outputs": [
    {
     "name": "stderr",
     "output_type": "stream",
     "text": [
      "/var/folders/zc/tnc802757nxgdvkzl8xbnq6h0000gn/T/ipykernel_70070/809341508.py:23: FutureWarning: Series.__getitem__ treating keys as positions is deprecated. In a future version, integer keys will always be treated as labels (consistent with DataFrame behavior). To access a value by position, use `ser.iloc[pos]`\n",
      "  'label': torch.tensor(row[0], dtype=torch.long),\n"
     ]
    }
   ],
   "source": [
    "model.eval()\n",
    "with torch.no_grad():\n",
    "    samples = next(iter(test_dataloader))\n",
    "    features, labels = samples['features'], samples['label']\n",
    "    outputs = model(features)"
   ]
  },
  {
   "cell_type": "code",
   "execution_count": null,
   "metadata": {},
   "outputs": [
    {
     "name": "stderr",
     "output_type": "stream",
     "text": [
      "/var/folders/zc/tnc802757nxgdvkzl8xbnq6h0000gn/T/ipykernel_69078/809341508.py:23: FutureWarning: Series.__getitem__ treating keys as positions is deprecated. In a future version, integer keys will always be treated as labels (consistent with DataFrame behavior). To access a value by position, use `ser.iloc[pos]`\n",
      "  'label': torch.tensor(row[0], dtype=torch.long),\n"
     ]
    }
   ],
   "source": [
    "model.eval()\n",
    "with torch.no_grad():\n",
    "    sample = next(iter(test_data))\n",
    "    features, label = sample['features'], sample['label']\n",
    "    features = features.unsqueeze(0)\n",
    "    outputs = model(features)\n",
    "_, predicted = torch.max(outputs, 1)\n",
    "predicted.item()"
   ]
  },
  {
   "cell_type": "code",
   "execution_count": 15,
   "metadata": {},
   "outputs": [],
   "source": [
    "from torchconverter import TracedModule"
   ]
  },
  {
   "cell_type": "code",
   "execution_count": 16,
   "metadata": {},
   "outputs": [
    {
     "name": "stderr",
     "output_type": "stream",
     "text": [
      "/var/folders/zc/tnc802757nxgdvkzl8xbnq6h0000gn/T/ipykernel_72601/809341508.py:23: FutureWarning: Series.__getitem__ treating keys as positions is deprecated. In a future version, integer keys will always be treated as labels (consistent with DataFrame behavior). To access a value by position, use `ser.iloc[pos]`\n",
      "  'label': torch.tensor(row[0], dtype=torch.long),\n"
     ]
    }
   ],
   "source": [
    "sample = next(iter(test_data))\n",
    "features, label = sample['features'], sample['label']\n",
    "features = features.unsqueeze(0)"
   ]
  },
  {
   "cell_type": "code",
   "execution_count": null,
   "metadata": {},
   "outputs": [
    {
     "name": "stdout",
     "output_type": "stream",
     "text": [
      "placeholder: x\n",
      "call module: fc1 fc1\n",
      "call function: relu <function relu at 0x10a59bc70> (fc1,)\n",
      "call module: fc2 fc2\n",
      "call function: relu_1 <function relu at 0x10a59bc70> (fc2,)\n",
      "call module: fc3 fc3\n",
      "call function: softmax <function softmax at 0x10a5a44c0> (fc3,)\n",
      "output: output torch.Size([1, 4]) torch.float32\n",
      "opcode         name     target                             args        kwargs\n",
      "-------------  -------  ---------------------------------  ----------  -------------------------------------------\n",
      "placeholder    x        x                                  ()          {}\n",
      "call_module    fc1      fc1                                (x,)        {}\n",
      "call_function  relu     <function relu at 0x10a59bc70>     (fc1,)      {'inplace': False}\n",
      "call_module    fc2      fc2                                (relu,)     {}\n",
      "call_function  relu_1   <function relu at 0x10a59bc70>     (fc2,)      {'inplace': False}\n",
      "call_module    fc3      fc3                                (relu_1,)   {}\n",
      "call_function  softmax  <function softmax at 0x10a5a44c0>  (fc3,)      {'dim': 1, '_stacklevel': 3, 'dtype': None}\n",
      "output         output   output                             (softmax,)  {}\n"
     ]
    },
    {
     "data": {
      "text/plain": [
       "tensor([[0.2134, 0.3199, 0.2371, 0.2295]], grad_fn=<SoftmaxBackward0>)"
      ]
     },
     "execution_count": 20,
     "metadata": {},
     "output_type": "execute_result"
    }
   ],
   "source": [
    "m = TracedModule(model)\n",
    "output = m.forward(torch.ones_like(features))\n",
    "m.print_graph()\n",
    "output\n",
    "m.convert()\n"
   ]
  },
  {
   "cell_type": "code",
   "execution_count": null,
   "metadata": {},
   "outputs": [],
   "source": []
  }
 ],
 "metadata": {
  "kernelspec": {
   "display_name": "nn",
   "language": "python",
   "name": "python3"
  },
  "language_info": {
   "codemirror_mode": {
    "name": "ipython",
    "version": 3
   },
   "file_extension": ".py",
   "mimetype": "text/x-python",
   "name": "python",
   "nbconvert_exporter": "python",
   "pygments_lexer": "ipython3",
   "version": "3.10.15"
  }
 },
 "nbformat": 4,
 "nbformat_minor": 2
}
